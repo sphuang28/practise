{
  "nbformat": 4,
  "nbformat_minor": 0,
  "metadata": {
    "colab": {
      "provenance": [],
      "authorship_tag": "ABX9TyOk+O8VhyzLv3PrHwEmvGp+",
      "include_colab_link": true
    },
    "kernelspec": {
      "name": "python3",
      "display_name": "Python 3"
    },
    "language_info": {
      "name": "python"
    }
  },
  "cells": [
    {
      "cell_type": "markdown",
      "metadata": {
        "id": "view-in-github",
        "colab_type": "text"
      },
      "source": [
        "<a href=\"https://colab.research.google.com/github/sphuang28/practise/blob/main/%E7%89%B9%E5%BE%B5_%E5%85%AC%E5%B0%BA%E5%85%A7%E8%A8%AD%E6%96%BD%E6%95%B8%E9%87%8F_%E4%B8%8B%E8%BC%89%E5%88%B0%E6%9C%AC%E6%A9%9F_Ver3_1.ipynb\" target=\"_parent\"><img src=\"https://colab.research.google.com/assets/colab-badge.svg\" alt=\"Open In Colab\"/></a>"
      ]
    },
    {
      "cell_type": "code",
      "execution_count": 36,
      "metadata": {
        "id": "BWp1IND9TUeJ",
        "colab": {
          "base_uri": "https://localhost:8080/",
          "height": 110
        },
        "outputId": "d1b82490-5866-4be6-a217-07b0358f24fd"
      },
      "outputs": [
        {
          "output_type": "execute_result",
          "data": {
            "text/plain": [
              "'\\n使用前注意事項:\\n以下兩個檔案須注意路徑與名稱\\n1.主檔案 : 房屋交易表\\n\\n2.設施座標表 : 各項設施座標\\n\\n3.各項中英對照\\npark_d  = 固定範圍(公園)\\npark_q  = 公園數量\\nmu_d   = 固定範圍(博物館)  \\nmu_q   = 博物館數量\\nlib_d   = 固定範圍(圖書館)   \\nlib_q   = 圖書館數量\\nmrt_d   = 固定範圍(捷運出口) \\nmrt_q   = 捷運出口數量\\nedu_d   = 固定範圍(學校) \\nedu_q   = 學校數量\\nfire_d  = 固定範圍(消防局) \\nfire_q  = 消防局數量\\ndeade_d  = 固定範圍(禮儀) \\ndeade_q  = 禮儀數量\\npol_d   = 固定範圍(警察局) \\npol_q   = 警察局數量\\npost_d  = 固定範圍(郵局) \\npost_q  = 郵局數量\\nhosp_d  = 固定範圍(醫療) \\nhosp_q  = 醫療數量\\nfin_d   = 固定範圍(金融) \\nfin_q   = 金融數量\\n\\n使用方式:\\n針對所需要修改設施選擇後再輸入距離即可(單位為公里)\\n\\n'"
            ],
            "application/vnd.google.colaboratory.intrinsic+json": {
              "type": "string"
            }
          },
          "metadata": {},
          "execution_count": 36
        }
      ],
      "source": [
        "'''\n",
        "使用前注意事項:\n",
        "以下兩個檔案須注意路徑與名稱\n",
        "1.主檔案 : 房屋交易表\n",
        "\n",
        "2.設施座標表 : 各項設施座標\n",
        "\n",
        "3.各項中英對照\n",
        "park_d  = 固定範圍(公園)\n",
        "park_q  = 公園數量\n",
        "mu_d   = 固定範圍(博物館)  \n",
        "mu_q   = 博物館數量\n",
        "lib_d   = 固定範圍(圖書館)   \n",
        "lib_q   = 圖書館數量\n",
        "mrt_d   = 固定範圍(捷運出口) \n",
        "mrt_q   = 捷運出口數量\n",
        "edu_d   = 固定範圍(學校) \n",
        "edu_q   = 學校數量\n",
        "fire_d  = 固定範圍(消防局) \n",
        "fire_q  = 消防局數量\n",
        "deade_d  = 固定範圍(禮儀) \n",
        "deade_q  = 禮儀數量\n",
        "pol_d   = 固定範圍(警察局) \n",
        "pol_q   = 警察局數量\n",
        "post_d  = 固定範圍(郵局) \n",
        "post_q  = 郵局數量\n",
        "hosp_d  = 固定範圍(醫療) \n",
        "hosp_q  = 醫療數量\n",
        "fin_d   = 固定範圍(金融) \n",
        "fin_q   = 金融數量\n",
        "\n",
        "使用方式:\n",
        "針對所需要修改設施選擇後再輸入距離即可(單位為公里)\n",
        "\n",
        "'''\n"
      ]
    },
    {
      "cell_type": "code",
      "source": [
        "import pandas as pd\n",
        "import geopy.distance\n",
        "from google.colab import files\n",
        "\n",
        "# 載入房屋交易csv檔\n",
        "\n",
        "dh = pd.read_csv(\"data/台北市房屋交易_最新版.csv\", encoding = \"utf-8\")\n",
        "pd.set_option('display.max_columns', 100)\n"
      ],
      "metadata": {
        "id": "t8x-RB1A7Y1s"
      },
      "execution_count": 37,
      "outputs": []
    },
    {
      "cell_type": "code",
      "source": [
        "#================= 1.公園 =============\n",
        "def park():\n",
        "\n",
        "  # 載入設施csv檔\n",
        "  df = pd.read_excel(\"data/設施座標表.xlsx\", sheet_name=\"公園\") \n",
        "  \n",
        "  dh[\"固定範圍(公園)\"]=int(k)/1000\n",
        "  dh[\"公園數量\"]=\"\"\n",
        "  for i in range(len(dh)):\n",
        "      times = 0\n",
        "      origin_lat = str(dh[\"lat\"][i])\n",
        "      origin_long = str(dh[\"lng\"][i])\n",
        "      origin = (origin_lat, origin_long)\n",
        "      for j in range(len(df)):\n",
        "          destination_lat = str(df[\"lat\"][j])\n",
        "          destination_long = str(df[\"lng\"][j])\n",
        "          destination = (destination_lat, destination_long)\n",
        "          distance=geopy.distance.geodesic(origin, destination).km\n",
        "          try:\n",
        "              if distance <= int(k)/1000:\n",
        "                  times = times + 1\n",
        "                  \n",
        "          except:\n",
        "              print(i,\"error\")\n",
        "      dh.at[i,\"公園數量\"] = times\n",
        "  dh.to_csv(\"台北市房屋交易_最新版公園\"+str(k)+\"公尺.csv\", encoding = \"utf-8\", index=False)\n",
        "  files.download(\"台北市房屋交易_最新版公園\"+str(k)+\"公尺.csv\")\n"
      ],
      "metadata": {
        "id": "aM5x2J34Tbtq"
      },
      "execution_count": 38,
      "outputs": []
    },
    {
      "cell_type": "code",
      "source": [
        "#park_d=固定範圍(公園)  park_q=公園數量"
      ],
      "metadata": {
        "id": "eTZ9JlUH08Cf"
      },
      "execution_count": 39,
      "outputs": []
    },
    {
      "cell_type": "code",
      "source": [
        "#================= 2.博物館 =============\n",
        "def mu():\n",
        "\n",
        "  # 載入設施csv檔\n",
        "  df = pd.read_excel(\"data/設施座標表.xlsx\", sheet_name=\"博物館\")  \n",
        "\n",
        "  dh[\"固定範圍(博物館)\"]=int(k)/1000\n",
        "  dh[\"博物館數量\"]=\"\"\n",
        "  for i in range(len(dh)):\n",
        "      times = 0\n",
        "      origin_lat = str(dh[\"lat\"][i])\n",
        "      origin_long = str(dh[\"lng\"][i])\n",
        "      origin = (origin_lat, origin_long)\n",
        "      for j in range(len(df)):\n",
        "          destination_lat = str(df[\"lat\"][j])\n",
        "          destination_long = str(df[\"lng\"][j])\n",
        "          destination = (destination_lat, destination_long)\n",
        "          distance=geopy.distance.geodesic(origin, destination).km\n",
        "          try:\n",
        "              if distance <= int(k)/1000:\n",
        "                  times = times + 1\n",
        "                  \n",
        "          except:\n",
        "              print(i,\"error\")\n",
        "      dh.at[i,\"博物館數量\"] = times\n",
        "  dh.to_csv(\"台北市房屋交易_最新版博物館\"+str(k)+\"公尺.csv\", encoding = \"utf-8\", index=False)\n",
        "  files.download(\"台北市房屋交易_最新版博物館\"+str(k)+\"公尺.csv\")"
      ],
      "metadata": {
        "id": "odUgkCQATd75"
      },
      "execution_count": 40,
      "outputs": []
    },
    {
      "cell_type": "code",
      "source": [
        "#mu_d=固定範圍(博物館) mu_q=博物館數量"
      ],
      "metadata": {
        "id": "aBaX6Xnr1b9A"
      },
      "execution_count": 41,
      "outputs": []
    },
    {
      "cell_type": "code",
      "source": [
        "#================= 3.圖書館 =============\n",
        "def lib():\n",
        "\n",
        "  # 載入設施csv檔\n",
        "  df = pd.read_excel(\"data/設施座標表.xlsx\", sheet_name=\"圖書館\")  \n",
        "\n",
        "  dh[\"固定範圍(圖書館)\"]=int(k)/1000\n",
        "  dh[\"圖書館數量\"]=\"\"\n",
        "  for i in range(len(dh)):\n",
        "      times = 0\n",
        "      origin_lat = str(dh[\"lat\"][i])\n",
        "      origin_long = str(dh[\"lng\"][i])\n",
        "      origin = (origin_lat, origin_long)\n",
        "      for j in range(len(df)):\n",
        "          destination_lat = str(df[\"lat\"][j])\n",
        "          destination_long = str(df[\"lng\"][j])\n",
        "          destination = (destination_lat, destination_long)\n",
        "          distance=geopy.distance.geodesic(origin, destination).km\n",
        "          try:\n",
        "              if distance <= int(k)/1000:\n",
        "                  times = times + 1\n",
        "                  \n",
        "          except:\n",
        "              print(i,\"error\")\n",
        "      dh.at[i,\"圖書館數量\"] = times\n",
        "  dh.to_csv(\"台北市房屋交易_最新版圖書館\"+str(k)+\"公尺.csv\", encoding = \"utf-8\", index=False)\n",
        "  files.download(\"台北市房屋交易_最新版圖書館\"+str(k)+\"公尺.csv\")"
      ],
      "metadata": {
        "id": "p8oKcvwdTf7Z"
      },
      "execution_count": 42,
      "outputs": []
    },
    {
      "cell_type": "code",
      "source": [
        "#lib_d=固定範圍(圖書館) lib_q=圖書館數量"
      ],
      "metadata": {
        "id": "T7VMm-Cm1hl3"
      },
      "execution_count": 43,
      "outputs": []
    },
    {
      "cell_type": "code",
      "source": [
        "#================= 4.捷運出口數 =============\n",
        "def mrt():\n",
        "\n",
        "  # 載入設施csv檔\n",
        "  df = pd.read_excel(\"data/設施座標表.xlsx\", sheet_name=\"捷運出口\")  \n",
        "\n",
        "  dh[\"固定範圍(捷運出口)\"]=int(k)/1000\n",
        "  dh[\"捷運出口數量\"]=\"\"\n",
        "  for i in range(len(dh)):\n",
        "      times = 0\n",
        "      origin_lat = str(dh[\"lat\"][i])\n",
        "      origin_long = str(dh[\"lng\"][i])\n",
        "      origin = (origin_lat, origin_long)\n",
        "      for j in range(len(df)):\n",
        "          destination_lat = str(df[\"lat\"][j])\n",
        "          destination_long = str(df[\"lng\"][j])\n",
        "          destination = (destination_lat, destination_long)\n",
        "          distance=geopy.distance.geodesic(origin, destination).km\n",
        "          try:\n",
        "              if distance <= int(k)/1000:\n",
        "                  times = times + 1\n",
        "                  \n",
        "          except:\n",
        "              print(i,\"error\")\n",
        "      dh.at[i,\"捷運出口數量\"] = times\n",
        "  dh.to_csv(\"台北市房屋交易_最新版捷運出口\"+str(k)+\"公尺.csv\", encoding = \"utf-8\", index=False)\n",
        "  files.download(\"台北市房屋交易_最新版捷運出口\"+str(k)+\"公尺.csv\")"
      ],
      "metadata": {
        "id": "baXXjszQThW6"
      },
      "execution_count": 44,
      "outputs": []
    },
    {
      "cell_type": "code",
      "source": [
        "#mrt_d=固定範圍(捷運出口) mrt_q=捷運出口數量"
      ],
      "metadata": {
        "id": "I8Jqa1Ic1laP"
      },
      "execution_count": 45,
      "outputs": []
    },
    {
      "cell_type": "code",
      "source": [
        "#================= 5.學校 =============\n",
        "def edu():\n",
        "\n",
        "  # 載入設施csv檔\n",
        "  df = pd.read_excel(\"data/設施座標表.xlsx\", sheet_name=\"學校\") \n",
        "\n",
        "  dh[\"固定範圍(學校)\"]=int(k)/1000\n",
        "  dh[\"學校數量\"]=\"\"\n",
        "  for i in range(len(dh)):\n",
        "      times = 0\n",
        "      origin_lat = str(dh[\"lat\"][i])\n",
        "      origin_long = str(dh[\"lng\"][i])\n",
        "      origin = (origin_lat, origin_long)\n",
        "      for j in range(len(df)):\n",
        "          destination_lat = str(df[\"lat\"][j])\n",
        "          destination_long = str(df[\"lng\"][j])\n",
        "          destination = (destination_lat, destination_long)\n",
        "          distance=geopy.distance.geodesic(origin, destination).km\n",
        "          try:\n",
        "              if distance <= int(k)/1000:\n",
        "                  times = times + 1\n",
        "                  \n",
        "          except:\n",
        "              print(i,\"error\")\n",
        "      dh.at[i,\"學校數量\"] = times\n",
        "  dh.to_csv(\"台北市房屋交易_最新版學校\"+str(k)+\"公尺.csv\", encoding = \"utf-8\", index=False)\n",
        "  files.download(\"台北市房屋交易_最新版學校\"+str(k)+\"公尺.csv\")    "
      ],
      "metadata": {
        "id": "RcS5MfNQTk7x"
      },
      "execution_count": 46,
      "outputs": []
    },
    {
      "cell_type": "code",
      "source": [
        "#edu_d=固定範圍(學校) edu_q=學校數量"
      ],
      "metadata": {
        "id": "N6GCmxX51poQ"
      },
      "execution_count": 47,
      "outputs": []
    },
    {
      "cell_type": "code",
      "source": [
        "#================= 6.消防 =============\n",
        "def fire():\n",
        "\n",
        "  # 載入設施csv檔\n",
        "  df = pd.read_excel(\"data/設施座標表.xlsx\", sheet_name=\"消防\") \n",
        "\n",
        "  dh[\"固定範圍(消防局)\"]=int(k)/1000\n",
        "  dh[\"消防局數量\"]=\"\"\n",
        "  for i in range(len(dh)):\n",
        "      times = 0\n",
        "      origin_lat = str(dh[\"lat\"][i])\n",
        "      origin_long = str(dh[\"lng\"][i])\n",
        "      origin = (origin_lat, origin_long)\n",
        "      for j in range(len(df)):\n",
        "          destination_lat = str(df[\"lat\"][j])\n",
        "          destination_long = str(df[\"lng\"][j])\n",
        "          destination = (destination_lat, destination_long)\n",
        "          distance=geopy.distance.geodesic(origin, destination).km\n",
        "          try:\n",
        "              if distance <= int(k)/1000:\n",
        "                  times = times + 1\n",
        "                  \n",
        "          except:\n",
        "              print(i,\"error\")\n",
        "      dh.at[i,\"消防局數量\"] = times\n",
        "  dh.to_csv(\"台北市房屋交易_最新版消防局\"+str(k)+\"公尺.csv\", encoding = \"utf-8\", index=False)\n",
        "  files.download(\"台北市房屋交易_最新版消防局\"+str(k)+\"公尺.csv\")  "
      ],
      "metadata": {
        "id": "dPXO-CSSTnEi"
      },
      "execution_count": 48,
      "outputs": []
    },
    {
      "cell_type": "code",
      "source": [
        "#fire_d=固定範圍(消防局) fire_q=消防局數量"
      ],
      "metadata": {
        "id": "M5HDQyHE19ka"
      },
      "execution_count": 49,
      "outputs": []
    },
    {
      "cell_type": "code",
      "source": [
        "#================= 7.禮儀 =============\n",
        "def dead():\n",
        "\n",
        "  # 載入設施csv檔\n",
        "  df = pd.read_excel(\"data/設施座標表.xlsx\", sheet_name=\"禮儀\")  \n",
        "\n",
        "  dh[\"固定範圍(禮儀)\"]=int(k)/1000\n",
        "  dh[\"禮儀數量\"]=\"\"\n",
        "  for i in range(len(dh)):\n",
        "      times = 0\n",
        "      origin_lat = str(dh[\"lat\"][i])\n",
        "      origin_long = str(dh[\"lng\"][i])\n",
        "      origin = (origin_lat, origin_long)\n",
        "      for j in range(len(df)):\n",
        "          destination_lat = str(df[\"lat\"][j])\n",
        "          destination_long = str(df[\"lng\"][j])\n",
        "          destination = (destination_lat, destination_long)\n",
        "          distance=geopy.distance.geodesic(origin, destination).km\n",
        "          try:\n",
        "              if distance <= int(k)/1000:\n",
        "                  times = times + 1\n",
        "                  \n",
        "          except:\n",
        "              print(i,\"error\")\n",
        "      dh.at[i,\"禮儀數量\"] = times\n",
        "  dh.to_csv(\"台北市房屋交易_最新版禮儀\"+str(k)+\"公尺.csv\", encoding = \"utf-8\", index=False)\n",
        "  files.download(\"台北市房屋交易_最新版禮儀\"+str(k)+\"公尺.csv\")     "
      ],
      "metadata": {
        "id": "eq-egfXbTn5C"
      },
      "execution_count": 50,
      "outputs": []
    },
    {
      "cell_type": "code",
      "source": [
        "#deade_d=固定範圍(禮儀) deade_q=禮儀數量"
      ],
      "metadata": {
        "id": "nQfTDf9g2BNH"
      },
      "execution_count": 51,
      "outputs": []
    },
    {
      "cell_type": "code",
      "source": [
        "#================= 8.警察 =============\n",
        "def pol():\n",
        "\n",
        "  # 載入設施csv檔\n",
        "  df = pd.read_excel(\"data/設施座標表.xlsx\", sheet_name=\"警察\")  \n",
        "\n",
        "  dh[\"固定範圍(警察局)\"]=int(k)/1000\n",
        "  dh[\"警察局數量\"]=\"\"\n",
        "  for i in range(len(dh)):\n",
        "      times = 0\n",
        "      origin_lat = str(dh[\"lat\"][i])\n",
        "      origin_long = str(dh[\"lng\"][i])\n",
        "      origin = (origin_lat, origin_long)\n",
        "      for j in range(len(df)):\n",
        "          destination_lat = str(df[\"lat\"][j])\n",
        "          destination_long = str(df[\"lng\"][j])\n",
        "          destination = (destination_lat, destination_long)\n",
        "          distance=geopy.distance.geodesic(origin, destination).km\n",
        "          try:\n",
        "              if distance <= int(k)/1000:\n",
        "                  times = times + 1\n",
        "                  \n",
        "          except:\n",
        "              print(i,\"error\")\n",
        "      dh.at[i,\"警察局數量\"] = times\n",
        "  dh.to_csv(\"台北市房屋交易_最新版警察局\"+str(k)+\"公尺.csv\", encoding = \"utf-8\", index=False)\n",
        "  files.download(\"台北市房屋交易_最新版警察局\"+str(k)+\"公尺.csv\") "
      ],
      "metadata": {
        "id": "RO8F8C3HTtqJ"
      },
      "execution_count": 52,
      "outputs": []
    },
    {
      "cell_type": "code",
      "source": [
        "#pol_d=固定範圍(警察局) pol_q=警察局數量"
      ],
      "metadata": {
        "id": "tilwn_h02Ejo"
      },
      "execution_count": 53,
      "outputs": []
    },
    {
      "cell_type": "code",
      "source": [
        "#================= 9.郵局 =============\n",
        "def post():\n",
        "\n",
        "  # 載入設施csv檔\n",
        "  df = pd.read_excel(\"data/設施座標表.xlsx\", sheet_name=\"郵局\") \n",
        "\n",
        "  dh[\"固定範圍(郵局)\"]=int(k)/1000\n",
        "  dh[\"郵局數量\"]=\"\"\n",
        "  for i in range(len(dh)):\n",
        "      times = 0\n",
        "      origin_lat = str(dh[\"lat\"][i])\n",
        "      origin_long = str(dh[\"lng\"][i])\n",
        "      origin = (origin_lat, origin_long)\n",
        "      for j in range(len(df)):\n",
        "          destination_lat = str(df[\"lat\"][j])\n",
        "          destination_long = str(df[\"lng\"][j])\n",
        "          destination = (destination_lat, destination_long)\n",
        "          distance=geopy.distance.geodesic(origin, destination).km\n",
        "          try:\n",
        "              if distance <= int(k)/1000:\n",
        "                  times = times + 1\n",
        "                  \n",
        "          except:\n",
        "              print(i,\"error\")\n",
        "      dh.at[i,\"郵局數量\"] = times\n",
        "  dh.to_csv(\"台北市房屋交易_最新版郵局\"+str(k)+\"公尺.csv\", encoding = \"utf-8\", index=False)\n",
        "  files.download(\"台北市房屋交易_最新版郵局\"+str(k)+\"公尺.csv\") "
      ],
      "metadata": {
        "id": "YMGYN4oHTvkL"
      },
      "execution_count": 54,
      "outputs": []
    },
    {
      "cell_type": "code",
      "source": [
        "#post_d=固定範圍(郵局) post_q=郵局數量"
      ],
      "metadata": {
        "id": "M5S3vDTI2Hiw"
      },
      "execution_count": 55,
      "outputs": []
    },
    {
      "cell_type": "code",
      "source": [
        "#================= 10.醫療 =============\n",
        "def hosp():\n",
        "\n",
        "  # 載入設施csv檔\n",
        "  df = pd.read_excel(\"data/設施座標表.xlsx\", sheet_name=\"醫療\")  \n",
        "\n",
        "  dh[\"固定範圍(醫療)\"]=int(k)/1000\n",
        "  dh[\"醫療數量\"]=\"\"\n",
        "  for i in range(len(dh)):\n",
        "      times = 0\n",
        "      origin_lat = str(dh[\"lat\"][i])\n",
        "      origin_long = str(dh[\"lng\"][i])\n",
        "      origin = (origin_lat, origin_long)\n",
        "      for j in range(len(df)):\n",
        "          destination_lat = str(df[\"lat\"][j])\n",
        "          destination_long = str(df[\"lng\"][j])\n",
        "          destination = (destination_lat, destination_long)\n",
        "          distance=geopy.distance.geodesic(origin, destination).km\n",
        "          try:\n",
        "              if distance <= int(k)/1000:\n",
        "                  times = times + 1\n",
        "                  \n",
        "          except:\n",
        "              print(i,\"error\")\n",
        "      dh.at[i,\"醫療數量\"] = times\n",
        "  dh.to_csv(\"台北市房屋交易_最新版醫療\"+str(k)+\"公尺.csv\", encoding = \"utf-8\", index=False)\n",
        "  files.download(\"台北市房屋交易_最新版醫療\"+str(k)+\"公尺.csv\") "
      ],
      "metadata": {
        "id": "ZtKFIwmLTwWS"
      },
      "execution_count": 56,
      "outputs": []
    },
    {
      "cell_type": "code",
      "source": [
        "#hosp_d=固定範圍(醫療) hosp_q=醫療數量"
      ],
      "metadata": {
        "id": "pEt-lY9Y2KXw"
      },
      "execution_count": 57,
      "outputs": []
    },
    {
      "cell_type": "code",
      "source": [
        "#================= 11.金融 =============\n",
        "def fin():\n",
        "\n",
        "  # 載入設施csv檔\n",
        "  df = pd.read_excel(\"data/設施座標表.xlsx\", sheet_name=\"金融\")  \n",
        "\n",
        "  dh[\"固定範圍(金融)\"]=int(k)/1000\n",
        "  dh[\"金融數量\"]=\"\"\n",
        "  for i in range(len(dh)):\n",
        "      times = 0\n",
        "      origin_lat = str(dh[\"lat\"][i])\n",
        "      origin_long = str(dh[\"lng\"][i])\n",
        "      origin = (origin_lat, origin_long)\n",
        "      for j in range(len(df)):\n",
        "          destination_lat = str(df[\"lat\"][j])\n",
        "          destination_long = str(df[\"lng\"][j])\n",
        "          destination = (destination_lat, destination_long)\n",
        "          distance=geopy.distance.geodesic(origin, destination).km\n",
        "          try:\n",
        "              if distance <= int(k)/1000:\n",
        "                  times = times + 1\n",
        "                  \n",
        "          except:\n",
        "              print(i,\"error\")\n",
        "      dh.at[i,\"金融數量\"] = times\n",
        "  dh.to_csv(\"台北市房屋交易_最新版金融\"+str(k)+\"公尺.csv\", encoding = \"utf-8\", index=False)\n",
        "  files.download(\"台北市房屋交易_最新版金融\"+str(k)+\"公尺.csv\") "
      ],
      "metadata": {
        "id": "2Knc876-TyWK"
      },
      "execution_count": 58,
      "outputs": []
    },
    {
      "cell_type": "code",
      "source": [
        "#fin_d=固定範圍(金融) fin_q=金融數量"
      ],
      "metadata": {
        "id": "q6uJXAz22OU3"
      },
      "execution_count": 59,
      "outputs": []
    },
    {
      "cell_type": "code",
      "source": [
        "#主程式\n",
        "list1=(\"1公園\",\"2博物館\",\"3圖書館\",\"4捷運出口\",\"5學校\",\"6消防\",\"7禮儀\",\"8警察\",\"9郵局\",\"10醫療\",\"11金融\")\n",
        "\n",
        "print(list1)\n",
        "ch=input(\"請輸入要改變的設施:\")\n",
        "fi=input(\"請輸入初始距離(m):\")\n",
        "la=input(\"請輸入最遠距離(m):\")\n",
        "to=input(\"請輸入間隔距離(m)\")\n",
        "\n",
        "\n",
        "\n",
        "if ch == str(1):   \n",
        "  for k in range(int(fi),int(la),int(to)):\n",
        "    park()    \n",
        "if ch == str(2):\n",
        "  for k in range(int(fi),int(la),int(to)):\n",
        "   mu() \n",
        "if ch == str(3):\n",
        "  for k in range(int(fi),int(la),int(to)):\n",
        "   lib() \n",
        "if ch == str(4):\n",
        "  for k in range(int(fi),int(la),int(to)):\n",
        "   mrt() \n",
        "if ch == str(5):\n",
        "  for k in range(int(fi),int(la),int(to)):\n",
        "   edu() \n",
        "if ch == str(6):\n",
        "  for k in range(int(fi),int(la),int(to)):\n",
        "   fire() \n",
        "if ch == str(7):\n",
        "  for k in range(int(fi),int(la),int(to)):\n",
        "   dead() \n",
        "if ch == str(8):\n",
        "  for k in range(int(fi),int(la),int(to)):\n",
        "   pol() \n",
        "if ch == str(9):\n",
        "  for k in range(int(fi),int(la),int(to)):\n",
        "   post() \n",
        "if ch == str(10):\n",
        "  for k in range(int(fi),int(la),int(to)):\n",
        "   hosp() \n",
        "if ch == str(11):\n",
        "  for k in range(int(fi),int(la),int(to)):\n",
        "   fin() \n",
        "\n",
        "# dh.to_csv(\"台北市房屋交易_最新版.csv\", encoding = \"utf-8\", index=False)"
      ],
      "metadata": {
        "id": "LQBfeYPvT3es",
        "colab": {
          "base_uri": "https://localhost:8080/",
          "height": 109
        },
        "outputId": "bd6b0c78-9db8-4332-917b-4c94578ac37a"
      },
      "execution_count": 60,
      "outputs": [
        {
          "name": "stdout",
          "output_type": "stream",
          "text": [
            "('1公園', '2博物館', '3圖書館', '4捷運出口', '5學校', '6消防', '7禮儀', '8警察', '9郵局', '10醫療', '11金融')\n",
            "請輸入要改變的設施:2\n",
            "請輸入初始距離(m):2000\n",
            "請輸入最遠距離(m):3000\n",
            "請輸入間隔距離(m)500\n"
          ]
        },
        {
          "output_type": "display_data",
          "data": {
            "text/plain": [
              "<IPython.core.display.Javascript object>"
            ],
            "application/javascript": [
              "\n",
              "    async function download(id, filename, size) {\n",
              "      if (!google.colab.kernel.accessAllowed) {\n",
              "        return;\n",
              "      }\n",
              "      const div = document.createElement('div');\n",
              "      const label = document.createElement('label');\n",
              "      label.textContent = `Downloading \"${filename}\": `;\n",
              "      div.appendChild(label);\n",
              "      const progress = document.createElement('progress');\n",
              "      progress.max = size;\n",
              "      div.appendChild(progress);\n",
              "      document.body.appendChild(div);\n",
              "\n",
              "      const buffers = [];\n",
              "      let downloaded = 0;\n",
              "\n",
              "      const channel = await google.colab.kernel.comms.open(id);\n",
              "      // Send a message to notify the kernel that we're ready.\n",
              "      channel.send({})\n",
              "\n",
              "      for await (const message of channel.messages) {\n",
              "        // Send a message to notify the kernel that we're ready.\n",
              "        channel.send({})\n",
              "        if (message.buffers) {\n",
              "          for (const buffer of message.buffers) {\n",
              "            buffers.push(buffer);\n",
              "            downloaded += buffer.byteLength;\n",
              "            progress.value = downloaded;\n",
              "          }\n",
              "        }\n",
              "      }\n",
              "      const blob = new Blob(buffers, {type: 'application/binary'});\n",
              "      const a = document.createElement('a');\n",
              "      a.href = window.URL.createObjectURL(blob);\n",
              "      a.download = filename;\n",
              "      div.appendChild(a);\n",
              "      a.click();\n",
              "      div.remove();\n",
              "    }\n",
              "  "
            ]
          },
          "metadata": {}
        },
        {
          "output_type": "display_data",
          "data": {
            "text/plain": [
              "<IPython.core.display.Javascript object>"
            ],
            "application/javascript": [
              "download(\"download_e0c04990-e5f1-49c8-a9fe-7bfe07150ce5\", \"\\u53f0\\u5317\\u5e02\\u623f\\u5c4b\\u4ea4\\u6613_\\u6700\\u65b0\\u7248\\u535a\\u7269\\u99282000\\u516c\\u5c3a.csv\", 16438)"
            ]
          },
          "metadata": {}
        },
        {
          "output_type": "display_data",
          "data": {
            "text/plain": [
              "<IPython.core.display.Javascript object>"
            ],
            "application/javascript": [
              "\n",
              "    async function download(id, filename, size) {\n",
              "      if (!google.colab.kernel.accessAllowed) {\n",
              "        return;\n",
              "      }\n",
              "      const div = document.createElement('div');\n",
              "      const label = document.createElement('label');\n",
              "      label.textContent = `Downloading \"${filename}\": `;\n",
              "      div.appendChild(label);\n",
              "      const progress = document.createElement('progress');\n",
              "      progress.max = size;\n",
              "      div.appendChild(progress);\n",
              "      document.body.appendChild(div);\n",
              "\n",
              "      const buffers = [];\n",
              "      let downloaded = 0;\n",
              "\n",
              "      const channel = await google.colab.kernel.comms.open(id);\n",
              "      // Send a message to notify the kernel that we're ready.\n",
              "      channel.send({})\n",
              "\n",
              "      for await (const message of channel.messages) {\n",
              "        // Send a message to notify the kernel that we're ready.\n",
              "        channel.send({})\n",
              "        if (message.buffers) {\n",
              "          for (const buffer of message.buffers) {\n",
              "            buffers.push(buffer);\n",
              "            downloaded += buffer.byteLength;\n",
              "            progress.value = downloaded;\n",
              "          }\n",
              "        }\n",
              "      }\n",
              "      const blob = new Blob(buffers, {type: 'application/binary'});\n",
              "      const a = document.createElement('a');\n",
              "      a.href = window.URL.createObjectURL(blob);\n",
              "      a.download = filename;\n",
              "      div.appendChild(a);\n",
              "      a.click();\n",
              "      div.remove();\n",
              "    }\n",
              "  "
            ]
          },
          "metadata": {}
        },
        {
          "output_type": "display_data",
          "data": {
            "text/plain": [
              "<IPython.core.display.Javascript object>"
            ],
            "application/javascript": [
              "download(\"download_322b315b-dc0e-4723-b18b-2c42f117ec2a\", \"\\u53f0\\u5317\\u5e02\\u623f\\u5c4b\\u4ea4\\u6613_\\u6700\\u65b0\\u7248\\u535a\\u7269\\u99282500\\u516c\\u5c3a.csv\", 16446)"
            ]
          },
          "metadata": {}
        }
      ]
    }
  ]
}